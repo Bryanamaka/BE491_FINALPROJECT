{
 "cells": [
  {
   "cell_type": "code",
   "execution_count": 6,
   "metadata": {},
   "outputs": [],
   "source": [
    "import pandas as pd\n",
    "import numpy as np\n",
    "import matplotlib.pyplot as plt \n",
    "import matplotlib \n",
    "import seaborn as sns \n",
    "from matplotlib.colors import ListedColormap \n",
    "import matplotlib.patches as mpatches"
   ]
  },
  {
   "cell_type": "code",
   "execution_count": 7,
   "metadata": {},
   "outputs": [],
   "source": [
    "from scipy.stats import normaltest, test \n",
    "from sklearn.preprocessing import OneHotEncoder, LabelEncoder, StandardScaler \n",
    "from sklearn.metrics import r2_score, median_absolute_error, mean_absolute_error, accuracy_score, f1_score \n",
    "from sklearn.metrics import mean_squared_log_error \n",
    "from sklearn.metrics import classification_report, confusion_matrix \n",
    "from scipy.special import boxcox, inv_boxcox\n"
   ]
  },
  {
   "cell_type": "code",
   "execution_count": 10,
   "metadata": {},
   "outputs": [],
   "source": [
    "from sklearn.linear_model import LogisticRegression, LogisticRegressionCV \n",
    "from sklearn.model_selection import train_test_split,cross_val_score, GridSearchCV, StratifiedKFold, cross_val_predict, KFold \n",
    "from sklearn.neighbors import KNeighborsClassifier \n",
    "from sklearn.linear_model import LogisticRegression \n",
    "from sklearn.tree import DecisionTreeClassifier \n",
    "from sklearn.ensemble import RandomForestClassifier\n",
    "from sklearn.ensemble import ExtraTreesClassifier \n",
    "from sklearn.ensemble import AdaBoostClassifier \n",
    "from sklearn.svm import SVC \n",
    "from sklearn.metrics import roc_curve, auc \n",
    "from sklearn.decomposition import PCA \n",
    "from scipy.stats import zscore \n",
    "from itertools import combinations \n",
    "from sklearn.ensemble import IsolationForest \n",
    "from sklearn.cluster import KMeans "
   ]
  },
  {
   "cell_type": "code",
   "execution_count": null,
   "metadata": {},
   "outputs": [],
   "source": []
  }
 ],
 "metadata": {
  "kernelspec": {
   "display_name": "venv",
   "language": "python",
   "name": "python3"
  },
  "language_info": {
   "codemirror_mode": {
    "name": "ipython",
    "version": 3
   },
   "file_extension": ".py",
   "mimetype": "text/x-python",
   "name": "python",
   "nbconvert_exporter": "python",
   "pygments_lexer": "ipython3",
   "version": "3.12.1"
  }
 },
 "nbformat": 4,
 "nbformat_minor": 2
}
